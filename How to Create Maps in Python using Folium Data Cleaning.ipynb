{
 "cells": [
  {
   "cell_type": "markdown",
   "id": "amended-badge",
   "metadata": {},
   "source": [
    "## Import Pandas and NumPy"
   ]
  },
  {
   "cell_type": "code",
   "execution_count": 1,
   "id": "desperate-embassy",
   "metadata": {},
   "outputs": [],
   "source": [
    "import pandas as pd\n",
    "import numpy as np"
   ]
  },
  {
   "cell_type": "markdown",
   "id": "stainless-region",
   "metadata": {},
   "source": [
    "## This is the data cleaning python workbook for the Open Data Week project: How to create maps in Python using Folium. This dataset was downloaded from the NYC Open Data page at: <br/><br/>https://data.cityofnewyork.us/Environment/Natural-Gas-Consumption-by-ZIP-Code-2010/uedp-fegm/data.<br/><br/> The cleaned dataset from this page can be found on my github at:<br/><br/>"
   ]
  },
  {
   "cell_type": "code",
   "execution_count": 2,
   "id": "latter-amsterdam",
   "metadata": {},
   "outputs": [],
   "source": [
    "energy = pd.read_csv(r'C:\\Users\\holli\\OneDrive\\Documents\\DS with Python\\Datasets\\Natural_Gas_Consumption_by_ZIP_Code_-_2010.csv',\n",
    "                     sep = ',')"
   ]
  },
  {
   "cell_type": "code",
   "execution_count": 3,
   "id": "conceptual-wagon",
   "metadata": {},
   "outputs": [
    {
     "data": {
      "text/html": [
       "<div>\n",
       "<style scoped>\n",
       "    .dataframe tbody tr th:only-of-type {\n",
       "        vertical-align: middle;\n",
       "    }\n",
       "\n",
       "    .dataframe tbody tr th {\n",
       "        vertical-align: top;\n",
       "    }\n",
       "\n",
       "    .dataframe thead th {\n",
       "        text-align: right;\n",
       "    }\n",
       "</style>\n",
       "<table border=\"1\" class=\"dataframe\">\n",
       "  <thead>\n",
       "    <tr style=\"text-align: right;\">\n",
       "      <th></th>\n",
       "      <th>Zip Code</th>\n",
       "      <th>Building type (service class</th>\n",
       "      <th>Consumption (therms)</th>\n",
       "      <th>Consumption (GJ)</th>\n",
       "      <th>Utility/Data Source</th>\n",
       "    </tr>\n",
       "  </thead>\n",
       "  <tbody>\n",
       "    <tr>\n",
       "      <th>0</th>\n",
       "      <td>10300</td>\n",
       "      <td>Commercial</td>\n",
       "      <td>470</td>\n",
       "      <td>50</td>\n",
       "      <td>National Grid</td>\n",
       "    </tr>\n",
       "    <tr>\n",
       "      <th>1</th>\n",
       "      <td>10335</td>\n",
       "      <td>Commercial</td>\n",
       "      <td>647</td>\n",
       "      <td>68</td>\n",
       "      <td>National Grid</td>\n",
       "    </tr>\n",
       "    <tr>\n",
       "      <th>2</th>\n",
       "      <td>10360</td>\n",
       "      <td>Large residential</td>\n",
       "      <td>33,762</td>\n",
       "      <td>3,562</td>\n",
       "      <td>National Grid</td>\n",
       "    </tr>\n",
       "    <tr>\n",
       "      <th>3</th>\n",
       "      <td>11200</td>\n",
       "      <td>Commercial</td>\n",
       "      <td>32,125</td>\n",
       "      <td>3,389</td>\n",
       "      <td>National Grid</td>\n",
       "    </tr>\n",
       "    <tr>\n",
       "      <th>4</th>\n",
       "      <td>11200</td>\n",
       "      <td>Institutional</td>\n",
       "      <td>3,605</td>\n",
       "      <td>380</td>\n",
       "      <td>National Grid</td>\n",
       "    </tr>\n",
       "  </tbody>\n",
       "</table>\n",
       "</div>"
      ],
      "text/plain": [
       "  Zip Code Building type (service class  Consumption (therms)   \\\n",
       "0    10300                   Commercial                    470   \n",
       "1    10335                   Commercial                    647   \n",
       "2    10360            Large residential                 33,762   \n",
       "3    11200                   Commercial                 32,125   \n",
       "4    11200                Institutional                  3,605   \n",
       "\n",
       "   Consumption (GJ)  Utility/Data Source  \n",
       "0                 50       National Grid  \n",
       "1                 68       National Grid  \n",
       "2              3,562       National Grid  \n",
       "3              3,389       National Grid  \n",
       "4                380       National Grid  "
      ]
     },
     "execution_count": 3,
     "metadata": {},
     "output_type": "execute_result"
    }
   ],
   "source": [
    "energy.head()"
   ]
  },
  {
   "cell_type": "code",
   "execution_count": 4,
   "id": "indian-termination",
   "metadata": {},
   "outputs": [],
   "source": [
    "energy.columns = ['Zip Code', 'Building type (service class)', 'Consumption (therms)', 'Consumption (GJ)',\n",
    "                 'Utility/Data Source']"
   ]
  },
  {
   "cell_type": "code",
   "execution_count": 5,
   "id": "civil-laptop",
   "metadata": {},
   "outputs": [],
   "source": [
    "energy = energy.drop('Consumption (GJ)', axis = 1)"
   ]
  },
  {
   "cell_type": "code",
   "execution_count": 6,
   "id": "laden-behalf",
   "metadata": {},
   "outputs": [
    {
     "name": "stdout",
     "output_type": "stream",
     "text": [
      "<class 'pandas.core.frame.DataFrame'>\n",
      "RangeIndex: 1015 entries, 0 to 1014\n",
      "Data columns (total 4 columns):\n",
      " #   Column                         Non-Null Count  Dtype \n",
      "---  ------                         --------------  ----- \n",
      " 0   Zip Code                       1015 non-null   object\n",
      " 1   Building type (service class)  1015 non-null   object\n",
      " 2   Consumption (therms)           1005 non-null   object\n",
      " 3   Utility/Data Source            1015 non-null   object\n",
      "dtypes: object(4)\n",
      "memory usage: 31.8+ KB\n"
     ]
    }
   ],
   "source": [
    "energy.info()"
   ]
  },
  {
   "cell_type": "markdown",
   "id": "floppy-programming",
   "metadata": {},
   "source": [
    "## Turn Consumption (therms) column into a float"
   ]
  },
  {
   "cell_type": "code",
   "execution_count": 7,
   "id": "white-chuck",
   "metadata": {},
   "outputs": [
    {
     "data": {
      "text/plain": [
       "0      470\n",
       "1      647\n",
       "2    33762\n",
       "3    32125\n",
       "4     3605\n",
       "Name: Consumption (therms), dtype: object"
      ]
     },
     "execution_count": 7,
     "metadata": {},
     "output_type": "execute_result"
    }
   ],
   "source": [
    "energy['Consumption (therms)'] = energy['Consumption (therms)'].str.replace(',', '')\n",
    "energy['Consumption (therms)'].head()"
   ]
  },
  {
   "cell_type": "code",
   "execution_count": 8,
   "id": "intermediate-inspector",
   "metadata": {},
   "outputs": [],
   "source": [
    "energy['Consumption (therms)'] = energy['Consumption (therms)'].astype('float64')"
   ]
  },
  {
   "cell_type": "markdown",
   "id": "persistent-frank",
   "metadata": {},
   "source": [
    "## The first 50 rows do not have coordinates so they will not but useful to us with our maps"
   ]
  },
  {
   "cell_type": "code",
   "execution_count": 9,
   "id": "velvet-deviation",
   "metadata": {},
   "outputs": [],
   "source": [
    "energy_coords = energy.loc[51:, :]"
   ]
  },
  {
   "cell_type": "code",
   "execution_count": 10,
   "id": "related-penguin",
   "metadata": {},
   "outputs": [
    {
     "data": {
      "text/html": [
       "<div>\n",
       "<style scoped>\n",
       "    .dataframe tbody tr th:only-of-type {\n",
       "        vertical-align: middle;\n",
       "    }\n",
       "\n",
       "    .dataframe tbody tr th {\n",
       "        vertical-align: top;\n",
       "    }\n",
       "\n",
       "    .dataframe thead th {\n",
       "        text-align: right;\n",
       "    }\n",
       "</style>\n",
       "<table border=\"1\" class=\"dataframe\">\n",
       "  <thead>\n",
       "    <tr style=\"text-align: right;\">\n",
       "      <th></th>\n",
       "      <th>Zip Code</th>\n",
       "      <th>Building type (service class)</th>\n",
       "      <th>Consumption (therms)</th>\n",
       "      <th>Utility/Data Source</th>\n",
       "    </tr>\n",
       "  </thead>\n",
       "  <tbody>\n",
       "    <tr>\n",
       "      <th>51</th>\n",
       "      <td>11109(40.744414792409, -73.957702346686)</td>\n",
       "      <td>Commercial</td>\n",
       "      <td>45899.0</td>\n",
       "      <td>ConEd</td>\n",
       "    </tr>\n",
       "    <tr>\n",
       "      <th>52</th>\n",
       "      <td>11429(40.709913120494, -73.738640316098)</td>\n",
       "      <td>Commercial</td>\n",
       "      <td>755.0</td>\n",
       "      <td>ConEd</td>\n",
       "    </tr>\n",
       "    <tr>\n",
       "      <th>53</th>\n",
       "      <td>11226(40.646505002304, -73.957190099144)</td>\n",
       "      <td>Industrial</td>\n",
       "      <td>65835.0</td>\n",
       "      <td>National Grid</td>\n",
       "    </tr>\n",
       "    <tr>\n",
       "      <th>54</th>\n",
       "      <td>10314(40.596490302985, -74.165991118795)</td>\n",
       "      <td>Institutional</td>\n",
       "      <td>2294516.0</td>\n",
       "      <td>National Grid</td>\n",
       "    </tr>\n",
       "    <tr>\n",
       "      <th>55</th>\n",
       "      <td>11223(40.596939623165, -73.973311472047)</td>\n",
       "      <td>Commercial</td>\n",
       "      <td>2376036.0</td>\n",
       "      <td>National Grid</td>\n",
       "    </tr>\n",
       "  </tbody>\n",
       "</table>\n",
       "</div>"
      ],
      "text/plain": [
       "                                    Zip Code Building type (service class)  \\\n",
       "51  11109(40.744414792409, -73.957702346686)                    Commercial   \n",
       "52  11429(40.709913120494, -73.738640316098)                    Commercial   \n",
       "53  11226(40.646505002304, -73.957190099144)                    Industrial   \n",
       "54  10314(40.596490302985, -74.165991118795)                 Institutional   \n",
       "55  11223(40.596939623165, -73.973311472047)                    Commercial   \n",
       "\n",
       "    Consumption (therms) Utility/Data Source  \n",
       "51               45899.0               ConEd  \n",
       "52                 755.0               ConEd  \n",
       "53               65835.0       National Grid  \n",
       "54             2294516.0       National Grid  \n",
       "55             2376036.0       National Grid  "
      ]
     },
     "execution_count": 10,
     "metadata": {},
     "output_type": "execute_result"
    }
   ],
   "source": [
    "energy_coords.head()"
   ]
  },
  {
   "cell_type": "markdown",
   "id": "temporal-danger",
   "metadata": {},
   "source": [
    "## Seperate the Zip Codes from the Coordinates, which are both in the Zip Code column"
   ]
  },
  {
   "cell_type": "code",
   "execution_count": 11,
   "id": "intermediate-negotiation",
   "metadata": {},
   "outputs": [],
   "source": [
    "coords = energy_coords['Zip Code'].str.split('(', expand = True)"
   ]
  },
  {
   "cell_type": "code",
   "execution_count": 12,
   "id": "crazy-customer",
   "metadata": {},
   "outputs": [
    {
     "data": {
      "text/html": [
       "<div>\n",
       "<style scoped>\n",
       "    .dataframe tbody tr th:only-of-type {\n",
       "        vertical-align: middle;\n",
       "    }\n",
       "\n",
       "    .dataframe tbody tr th {\n",
       "        vertical-align: top;\n",
       "    }\n",
       "\n",
       "    .dataframe thead th {\n",
       "        text-align: right;\n",
       "    }\n",
       "</style>\n",
       "<table border=\"1\" class=\"dataframe\">\n",
       "  <thead>\n",
       "    <tr style=\"text-align: right;\">\n",
       "      <th></th>\n",
       "      <th>0</th>\n",
       "      <th>1</th>\n",
       "    </tr>\n",
       "  </thead>\n",
       "  <tbody>\n",
       "    <tr>\n",
       "      <th>51</th>\n",
       "      <td>11109</td>\n",
       "      <td>40.744414792409, -73.957702346686)</td>\n",
       "    </tr>\n",
       "    <tr>\n",
       "      <th>52</th>\n",
       "      <td>11429</td>\n",
       "      <td>40.709913120494, -73.738640316098)</td>\n",
       "    </tr>\n",
       "    <tr>\n",
       "      <th>53</th>\n",
       "      <td>11226</td>\n",
       "      <td>40.646505002304, -73.957190099144)</td>\n",
       "    </tr>\n",
       "    <tr>\n",
       "      <th>54</th>\n",
       "      <td>10314</td>\n",
       "      <td>40.596490302985, -74.165991118795)</td>\n",
       "    </tr>\n",
       "    <tr>\n",
       "      <th>55</th>\n",
       "      <td>11223</td>\n",
       "      <td>40.596939623165, -73.973311472047)</td>\n",
       "    </tr>\n",
       "    <tr>\n",
       "      <th>...</th>\n",
       "      <td>...</td>\n",
       "      <td>...</td>\n",
       "    </tr>\n",
       "    <tr>\n",
       "      <th>1010</th>\n",
       "      <td>10029</td>\n",
       "      <td>40.791610720558, -73.944032281065)</td>\n",
       "    </tr>\n",
       "    <tr>\n",
       "      <th>1011</th>\n",
       "      <td>11365</td>\n",
       "      <td>40.739871843711, -73.794621535156)</td>\n",
       "    </tr>\n",
       "    <tr>\n",
       "      <th>1012</th>\n",
       "      <td>11434</td>\n",
       "      <td>40.676945262114, -73.775306901692)</td>\n",
       "    </tr>\n",
       "    <tr>\n",
       "      <th>1013</th>\n",
       "      <td>11221</td>\n",
       "      <td>40.691288039511, -73.927617927925)</td>\n",
       "    </tr>\n",
       "    <tr>\n",
       "      <th>1014</th>\n",
       "      <td>10474</td>\n",
       "      <td>40.810882923108, -73.882356362356)</td>\n",
       "    </tr>\n",
       "  </tbody>\n",
       "</table>\n",
       "<p>964 rows × 2 columns</p>\n",
       "</div>"
      ],
      "text/plain": [
       "          0                                   1\n",
       "51    11109  40.744414792409, -73.957702346686)\n",
       "52    11429  40.709913120494, -73.738640316098)\n",
       "53    11226  40.646505002304, -73.957190099144)\n",
       "54    10314  40.596490302985, -74.165991118795)\n",
       "55    11223  40.596939623165, -73.973311472047)\n",
       "...     ...                                 ...\n",
       "1010  10029  40.791610720558, -73.944032281065)\n",
       "1011  11365  40.739871843711, -73.794621535156)\n",
       "1012  11434  40.676945262114, -73.775306901692)\n",
       "1013  11221  40.691288039511, -73.927617927925)\n",
       "1014  10474  40.810882923108, -73.882356362356)\n",
       "\n",
       "[964 rows x 2 columns]"
      ]
     },
     "execution_count": 12,
     "metadata": {},
     "output_type": "execute_result"
    }
   ],
   "source": [
    "coords"
   ]
  },
  {
   "cell_type": "markdown",
   "id": "placed-darwin",
   "metadata": {},
   "source": [
    "## Make Zip Codes seperate column"
   ]
  },
  {
   "cell_type": "code",
   "execution_count": 13,
   "id": "approved-movie",
   "metadata": {},
   "outputs": [
    {
     "name": "stderr",
     "output_type": "stream",
     "text": [
      "C:\\Users\\holli\\anaconda3\\lib\\site-packages\\ipykernel_launcher.py:1: SettingWithCopyWarning: \n",
      "A value is trying to be set on a copy of a slice from a DataFrame.\n",
      "Try using .loc[row_indexer,col_indexer] = value instead\n",
      "\n",
      "See the caveats in the documentation: https://pandas.pydata.org/pandas-docs/stable/user_guide/indexing.html#returning-a-view-versus-a-copy\n",
      "  \"\"\"Entry point for launching an IPython kernel.\n"
     ]
    }
   ],
   "source": [
    "energy_coords['Zip Code'] = coords[0]"
   ]
  },
  {
   "cell_type": "markdown",
   "id": "lesbian-organizer",
   "metadata": {},
   "source": [
    "## Check the Building type column"
   ]
  },
  {
   "cell_type": "code",
   "execution_count": 14,
   "id": "dangerous-macedonia",
   "metadata": {},
   "outputs": [
    {
     "data": {
      "text/plain": [
       "Commercial           338\n",
       "Residential          198\n",
       "Small residential     96\n",
       "Large residential     87\n",
       "Institutional         86\n",
       "Industrial            81\n",
       "Large Residential     78\n",
       "Name: Building type (service class), dtype: int64"
      ]
     },
     "execution_count": 14,
     "metadata": {},
     "output_type": "execute_result"
    }
   ],
   "source": [
    "energy_coords['Building type (service class)'].value_counts()"
   ]
  },
  {
   "cell_type": "code",
   "execution_count": 15,
   "id": "million-holiday",
   "metadata": {},
   "outputs": [
    {
     "name": "stderr",
     "output_type": "stream",
     "text": [
      "C:\\Users\\holli\\anaconda3\\lib\\site-packages\\ipykernel_launcher.py:1: SettingWithCopyWarning: \n",
      "A value is trying to be set on a copy of a slice from a DataFrame.\n",
      "Try using .loc[row_indexer,col_indexer] = value instead\n",
      "\n",
      "See the caveats in the documentation: https://pandas.pydata.org/pandas-docs/stable/user_guide/indexing.html#returning-a-view-versus-a-copy\n",
      "  \"\"\"Entry point for launching an IPython kernel.\n"
     ]
    },
    {
     "data": {
      "text/plain": [
       "Commercial           338\n",
       "Residential          198\n",
       "Large residential    165\n",
       "Small residential     96\n",
       "Institutional         86\n",
       "Industrial            81\n",
       "Name: Building type (service class), dtype: int64"
      ]
     },
     "execution_count": 15,
     "metadata": {},
     "output_type": "execute_result"
    }
   ],
   "source": [
    "energy_coords['Building type (service class)'] = energy_coords['Building type (service class)'].str.replace('Large Residential', 'Large residential')\n",
    "\n",
    "energy_coords['Building type (service class)'].value_counts()"
   ]
  },
  {
   "cell_type": "markdown",
   "id": "measured-personality",
   "metadata": {},
   "source": [
    "## Seperate latitude and longitude and remove unneeded characters"
   ]
  },
  {
   "cell_type": "code",
   "execution_count": 16,
   "id": "fifteen-reception",
   "metadata": {},
   "outputs": [
    {
     "name": "stderr",
     "output_type": "stream",
     "text": [
      "C:\\Users\\holli\\anaconda3\\lib\\site-packages\\ipykernel_launcher.py:2: FutureWarning: The default value of regex will change from True to False in a future version. In addition, single character regular expressions will*not* be treated as literal strings when regex=True.\n",
      "  \n"
     ]
    }
   ],
   "source": [
    "coords1 = coords[1].str.split(',', expand = True)\n",
    "coords1[1] = coords1[1].str.replace(')', '')"
   ]
  },
  {
   "cell_type": "code",
   "execution_count": 17,
   "id": "particular-heritage",
   "metadata": {},
   "outputs": [
    {
     "data": {
      "text/html": [
       "<div>\n",
       "<style scoped>\n",
       "    .dataframe tbody tr th:only-of-type {\n",
       "        vertical-align: middle;\n",
       "    }\n",
       "\n",
       "    .dataframe tbody tr th {\n",
       "        vertical-align: top;\n",
       "    }\n",
       "\n",
       "    .dataframe thead th {\n",
       "        text-align: right;\n",
       "    }\n",
       "</style>\n",
       "<table border=\"1\" class=\"dataframe\">\n",
       "  <thead>\n",
       "    <tr style=\"text-align: right;\">\n",
       "      <th></th>\n",
       "      <th>0</th>\n",
       "      <th>1</th>\n",
       "    </tr>\n",
       "  </thead>\n",
       "  <tbody>\n",
       "    <tr>\n",
       "      <th>51</th>\n",
       "      <td>40.744414792409</td>\n",
       "      <td>-73.957702346686</td>\n",
       "    </tr>\n",
       "    <tr>\n",
       "      <th>52</th>\n",
       "      <td>40.709913120494</td>\n",
       "      <td>-73.738640316098</td>\n",
       "    </tr>\n",
       "    <tr>\n",
       "      <th>53</th>\n",
       "      <td>40.646505002304</td>\n",
       "      <td>-73.957190099144</td>\n",
       "    </tr>\n",
       "    <tr>\n",
       "      <th>54</th>\n",
       "      <td>40.596490302985</td>\n",
       "      <td>-74.165991118795</td>\n",
       "    </tr>\n",
       "    <tr>\n",
       "      <th>55</th>\n",
       "      <td>40.596939623165</td>\n",
       "      <td>-73.973311472047</td>\n",
       "    </tr>\n",
       "    <tr>\n",
       "      <th>...</th>\n",
       "      <td>...</td>\n",
       "      <td>...</td>\n",
       "    </tr>\n",
       "    <tr>\n",
       "      <th>1010</th>\n",
       "      <td>40.791610720558</td>\n",
       "      <td>-73.944032281065</td>\n",
       "    </tr>\n",
       "    <tr>\n",
       "      <th>1011</th>\n",
       "      <td>40.739871843711</td>\n",
       "      <td>-73.794621535156</td>\n",
       "    </tr>\n",
       "    <tr>\n",
       "      <th>1012</th>\n",
       "      <td>40.676945262114</td>\n",
       "      <td>-73.775306901692</td>\n",
       "    </tr>\n",
       "    <tr>\n",
       "      <th>1013</th>\n",
       "      <td>40.691288039511</td>\n",
       "      <td>-73.927617927925</td>\n",
       "    </tr>\n",
       "    <tr>\n",
       "      <th>1014</th>\n",
       "      <td>40.810882923108</td>\n",
       "      <td>-73.882356362356</td>\n",
       "    </tr>\n",
       "  </tbody>\n",
       "</table>\n",
       "<p>964 rows × 2 columns</p>\n",
       "</div>"
      ],
      "text/plain": [
       "                    0                  1\n",
       "51    40.744414792409   -73.957702346686\n",
       "52    40.709913120494   -73.738640316098\n",
       "53    40.646505002304   -73.957190099144\n",
       "54    40.596490302985   -74.165991118795\n",
       "55    40.596939623165   -73.973311472047\n",
       "...               ...                ...\n",
       "1010  40.791610720558   -73.944032281065\n",
       "1011  40.739871843711   -73.794621535156\n",
       "1012  40.676945262114   -73.775306901692\n",
       "1013  40.691288039511   -73.927617927925\n",
       "1014  40.810882923108   -73.882356362356\n",
       "\n",
       "[964 rows x 2 columns]"
      ]
     },
     "execution_count": 17,
     "metadata": {},
     "output_type": "execute_result"
    }
   ],
   "source": [
    "coords1"
   ]
  },
  {
   "cell_type": "markdown",
   "id": "divided-merit",
   "metadata": {},
   "source": [
    "## Now we have our latitude and longitude in seperate columns and a part of our mapping dataset"
   ]
  },
  {
   "cell_type": "code",
   "execution_count": 18,
   "id": "adult-specialist",
   "metadata": {},
   "outputs": [
    {
     "name": "stderr",
     "output_type": "stream",
     "text": [
      "C:\\Users\\holli\\anaconda3\\lib\\site-packages\\ipykernel_launcher.py:1: SettingWithCopyWarning: \n",
      "A value is trying to be set on a copy of a slice from a DataFrame.\n",
      "Try using .loc[row_indexer,col_indexer] = value instead\n",
      "\n",
      "See the caveats in the documentation: https://pandas.pydata.org/pandas-docs/stable/user_guide/indexing.html#returning-a-view-versus-a-copy\n",
      "  \"\"\"Entry point for launching an IPython kernel.\n",
      "C:\\Users\\holli\\anaconda3\\lib\\site-packages\\ipykernel_launcher.py:2: SettingWithCopyWarning: \n",
      "A value is trying to be set on a copy of a slice from a DataFrame.\n",
      "Try using .loc[row_indexer,col_indexer] = value instead\n",
      "\n",
      "See the caveats in the documentation: https://pandas.pydata.org/pandas-docs/stable/user_guide/indexing.html#returning-a-view-versus-a-copy\n",
      "  \n"
     ]
    }
   ],
   "source": [
    "energy_coords['Latitude'] = coords1[0]\n",
    "energy_coords['Longitude'] = coords1[1]"
   ]
  },
  {
   "cell_type": "markdown",
   "id": "tested-creativity",
   "metadata": {},
   "source": [
    "## Reset our index"
   ]
  },
  {
   "cell_type": "code",
   "execution_count": 19,
   "id": "signal-international",
   "metadata": {},
   "outputs": [
    {
     "data": {
      "text/html": [
       "<div>\n",
       "<style scoped>\n",
       "    .dataframe tbody tr th:only-of-type {\n",
       "        vertical-align: middle;\n",
       "    }\n",
       "\n",
       "    .dataframe tbody tr th {\n",
       "        vertical-align: top;\n",
       "    }\n",
       "\n",
       "    .dataframe thead th {\n",
       "        text-align: right;\n",
       "    }\n",
       "</style>\n",
       "<table border=\"1\" class=\"dataframe\">\n",
       "  <thead>\n",
       "    <tr style=\"text-align: right;\">\n",
       "      <th></th>\n",
       "      <th>Zip Code</th>\n",
       "      <th>Building type (service class)</th>\n",
       "      <th>Consumption (therms)</th>\n",
       "      <th>Utility/Data Source</th>\n",
       "      <th>Latitude</th>\n",
       "      <th>Longitude</th>\n",
       "    </tr>\n",
       "  </thead>\n",
       "  <tbody>\n",
       "    <tr>\n",
       "      <th>0</th>\n",
       "      <td>11109</td>\n",
       "      <td>Commercial</td>\n",
       "      <td>45899.0</td>\n",
       "      <td>ConEd</td>\n",
       "      <td>40.744414792409</td>\n",
       "      <td>-73.957702346686</td>\n",
       "    </tr>\n",
       "    <tr>\n",
       "      <th>1</th>\n",
       "      <td>11429</td>\n",
       "      <td>Commercial</td>\n",
       "      <td>755.0</td>\n",
       "      <td>ConEd</td>\n",
       "      <td>40.709913120494</td>\n",
       "      <td>-73.738640316098</td>\n",
       "    </tr>\n",
       "    <tr>\n",
       "      <th>2</th>\n",
       "      <td>11226</td>\n",
       "      <td>Industrial</td>\n",
       "      <td>65835.0</td>\n",
       "      <td>National Grid</td>\n",
       "      <td>40.646505002304</td>\n",
       "      <td>-73.957190099144</td>\n",
       "    </tr>\n",
       "    <tr>\n",
       "      <th>3</th>\n",
       "      <td>10314</td>\n",
       "      <td>Institutional</td>\n",
       "      <td>2294516.0</td>\n",
       "      <td>National Grid</td>\n",
       "      <td>40.596490302985</td>\n",
       "      <td>-74.165991118795</td>\n",
       "    </tr>\n",
       "    <tr>\n",
       "      <th>4</th>\n",
       "      <td>11223</td>\n",
       "      <td>Commercial</td>\n",
       "      <td>2376036.0</td>\n",
       "      <td>National Grid</td>\n",
       "      <td>40.596939623165</td>\n",
       "      <td>-73.973311472047</td>\n",
       "    </tr>\n",
       "  </tbody>\n",
       "</table>\n",
       "</div>"
      ],
      "text/plain": [
       "  Zip Code Building type (service class)  Consumption (therms)  \\\n",
       "0    11109                    Commercial               45899.0   \n",
       "1    11429                    Commercial                 755.0   \n",
       "2    11226                    Industrial               65835.0   \n",
       "3    10314                 Institutional             2294516.0   \n",
       "4    11223                    Commercial             2376036.0   \n",
       "\n",
       "  Utility/Data Source         Latitude          Longitude  \n",
       "0               ConEd  40.744414792409   -73.957702346686  \n",
       "1               ConEd  40.709913120494   -73.738640316098  \n",
       "2       National Grid  40.646505002304   -73.957190099144  \n",
       "3       National Grid  40.596490302985   -74.165991118795  \n",
       "4       National Grid  40.596939623165   -73.973311472047  "
      ]
     },
     "execution_count": 19,
     "metadata": {},
     "output_type": "execute_result"
    }
   ],
   "source": [
    "energy_coords = energy_coords.reset_index()\n",
    "energy_coords = energy_coords.drop('index', axis = 1)\n",
    "energy_coords.head()"
   ]
  },
  {
   "cell_type": "markdown",
   "id": "thorough-platinum",
   "metadata": {},
   "source": [
    "## We will replace the missing values in our Consumption (therms) column with median imputation"
   ]
  },
  {
   "cell_type": "code",
   "execution_count": 20,
   "id": "pointed-strand",
   "metadata": {},
   "outputs": [
    {
     "data": {
      "text/plain": [
       "Zip Code                         0\n",
       "Building type (service class)    0\n",
       "Consumption (therms)             9\n",
       "Utility/Data Source              0\n",
       "Latitude                         0\n",
       "Longitude                        0\n",
       "dtype: int64"
      ]
     },
     "execution_count": 20,
     "metadata": {},
     "output_type": "execute_result"
    }
   ],
   "source": [
    "energy_coords.isnull().sum()"
   ]
  },
  {
   "cell_type": "markdown",
   "id": "worthy-finland",
   "metadata": {},
   "source": [
    "## Create a mask to get rows for missing therms values and fill the null values with the median"
   ]
  },
  {
   "cell_type": "code",
   "execution_count": 21,
   "id": "wanted-princess",
   "metadata": {},
   "outputs": [],
   "source": [
    "therms_null_mask = energy_coords['Consumption (therms)'].isnull()"
   ]
  },
  {
   "cell_type": "code",
   "execution_count": 22,
   "id": "molecular-spencer",
   "metadata": {},
   "outputs": [],
   "source": [
    "energy_coords.loc[therms_null_mask, 'Consumption (therms)'] = energy_coords.loc[therms_null_mask, \n",
    "                                                            'Consumption (therms)'].fillna(\n",
    "    np.median(energy_coords.loc[~therms_null_mask, 'Consumption (therms)']))"
   ]
  },
  {
   "cell_type": "markdown",
   "id": "acquired-confusion",
   "metadata": {},
   "source": [
    "## Check our data types"
   ]
  },
  {
   "cell_type": "code",
   "execution_count": 23,
   "id": "miniature-conjunction",
   "metadata": {},
   "outputs": [
    {
     "name": "stdout",
     "output_type": "stream",
     "text": [
      "<class 'pandas.core.frame.DataFrame'>\n",
      "RangeIndex: 964 entries, 0 to 963\n",
      "Data columns (total 6 columns):\n",
      " #   Column                         Non-Null Count  Dtype  \n",
      "---  ------                         --------------  -----  \n",
      " 0   Zip Code                       964 non-null    object \n",
      " 1   Building type (service class)  964 non-null    object \n",
      " 2   Consumption (therms)           964 non-null    float64\n",
      " 3   Utility/Data Source            964 non-null    object \n",
      " 4   Latitude                       964 non-null    object \n",
      " 5   Longitude                      964 non-null    object \n",
      "dtypes: float64(1), object(5)\n",
      "memory usage: 45.3+ KB\n"
     ]
    }
   ],
   "source": [
    "energy_coords.info()"
   ]
  },
  {
   "cell_type": "markdown",
   "id": "motivated-manual",
   "metadata": {},
   "source": [
    "## Change Latitude and Longitude columns into floats"
   ]
  },
  {
   "cell_type": "code",
   "execution_count": 24,
   "id": "blessed-stomach",
   "metadata": {},
   "outputs": [
    {
     "name": "stdout",
     "output_type": "stream",
     "text": [
      "<class 'pandas.core.frame.DataFrame'>\n",
      "RangeIndex: 964 entries, 0 to 963\n",
      "Data columns (total 6 columns):\n",
      " #   Column                         Non-Null Count  Dtype  \n",
      "---  ------                         --------------  -----  \n",
      " 0   Zip Code                       964 non-null    object \n",
      " 1   Building type (service class)  964 non-null    object \n",
      " 2   Consumption (therms)           964 non-null    float64\n",
      " 3   Utility/Data Source            964 non-null    object \n",
      " 4   Latitude                       964 non-null    float64\n",
      " 5   Longitude                      964 non-null    float64\n",
      "dtypes: float64(3), object(3)\n",
      "memory usage: 45.3+ KB\n"
     ]
    }
   ],
   "source": [
    "energy_coords['Latitude'] = energy_coords['Latitude'].astype('float64')\n",
    "energy_coords['Longitude'] = energy_coords['Longitude'].astype('float64')\n",
    "\n",
    "energy_coords.info()"
   ]
  },
  {
   "cell_type": "markdown",
   "id": "vocational-cisco",
   "metadata": {},
   "source": [
    "## Now we are ready to export our dataset"
   ]
  },
  {
   "cell_type": "code",
   "execution_count": 27,
   "id": "relevant-optics",
   "metadata": {},
   "outputs": [],
   "source": [
    "energy_coords.to_csv('Natural_Gas_Consumption_by_ZIP_Code_-_2010_clean.csv', index = False)"
   ]
  }
 ],
 "metadata": {
  "kernelspec": {
   "display_name": "Python 3",
   "language": "python",
   "name": "python3"
  },
  "language_info": {
   "codemirror_mode": {
    "name": "ipython",
    "version": 3
   },
   "file_extension": ".py",
   "mimetype": "text/x-python",
   "name": "python",
   "nbconvert_exporter": "python",
   "pygments_lexer": "ipython3",
   "version": "3.6.12"
  }
 },
 "nbformat": 4,
 "nbformat_minor": 5
}
